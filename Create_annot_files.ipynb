{
 "cells": [
  {
   "cell_type": "code",
   "execution_count": 2,
   "id": "8fdc0cf5",
   "metadata": {},
   "outputs": [
    {
     "data": {
      "text/plain": [
       "'C:\\\\Users\\\\woute\\\\Documents\\\\Reproduction_project\\\\HEAT_Reproduction'"
      ]
     },
     "execution_count": 2,
     "metadata": {},
     "output_type": "execute_result"
    }
   ],
   "source": [
    "pwd"
   ]
  },
  {
   "cell_type": "code",
   "execution_count": 50,
   "id": "7cf1db9d",
   "metadata": {},
   "outputs": [],
   "source": [
    "import pickle\n",
    "from plot import plot_graph_rplan, plot_polygons_rplan, plot_polygon, plot_polygon_inside\n",
    "import matplotlib.pyplot as plt\n",
    "from matplotlib.path import Path\n",
    "from matplotlib.patches import PathPatch\n",
    "from matplotlib.collections import PatchCollection\n",
    "from utils import ROOM_ARRAY_Z\n",
    "import numpy as np\n",
    "import shapely\n",
    "from shapely.geometry import Polygon, MultiPolygon, Point"
   ]
  },
  {
   "cell_type": "code",
   "execution_count": 149,
   "id": "70290383",
   "metadata": {
    "scrolled": true
   },
   "outputs": [
    {
     "name": "stderr",
     "output_type": "stream",
     "text": [
      "C:\\Users\\woute\\AppData\\Local\\Temp\\ipykernel_2632\\1435557143.py:8: UserWarning: Unpickling a shapely <2.0 geometry object. Please save the pickle again; shapely 2.1 will not have this compatibility.\n",
      "  polygon = pickle.load(open('../RPLAN/geometry/10.pickle', 'rb'))\n"
     ]
    },
    {
     "data": {
      "image/png": "[encoded data removed]",
      "text/plain": [
       "<Figure size 640x480 with 1 Axes>"
      ]
     },
     "metadata": {},
     "output_type": "display_data"
    }
   ],
   "source": [
    "\"\"\"\n",
    "This code prints a polygon as saved in the geometry files. I suspect that it only plot the edges of\n",
    "the walls. It could maybe be possible to select the interior walls and print those. Or select the\n",
    "interior and exterior walls and convert them to a annot.npy file.\n",
    "\"\"\"\n",
    "COLORS = [np.array(ROOM_ARRAY_Z[n][1])/255 for n in range(18)]\n",
    "\n",
    "polygon = pickle.load(open('../RPLAN/geometry/10.pickle', 'rb'))\n",
    "\n",
    "# fig, axs = plt.subplots(figsize=(250/DPI, 250/DPI), dpi=DPI)\n",
    "fig, axs = plt.subplots()\n",
    "# This makes the image based on the polygon input\n",
    "plot_polygons_rplan(polygon, axs, colors=COLORS)"
   ]
  },
  {
   "cell_type": "code",
   "execution_count": 101,
   "id": "145d32de",
   "metadata": {},
   "outputs": [
    {
     "name": "stdout",
     "output_type": "stream",
     "text": [
      "annot is type: <class 'numpy.ndarray'>\n",
      "annot_item is type: <class 'collections.defaultdict'>\n",
      "corner_connections is type: <class 'dict'>\n",
      "corner at: (135.0, 233.0) is connected to: [(135, 197), (52.0, 233.0)]\n",
      "corner at: (52.0, 233.0) is connected to: [(52, 197), (135.0, 233.0)]\n",
      "corner at: (52, 197) is connected to: [(52.0, 130.0), (135, 197), (52.0, 233.0)]\n",
      "corner at: (135, 197) is connected to: [(52, 197), (193, 197), (135.0, 233.0)]\n",
      "corner at: (233, 145) is connected to: [(233.0, 197.0), (193, 145), (233.0, 100.0)]\n",
      "corner at: (233.0, 100.0) is connected to: [(233, 145), (193.0, 100.0)]\n",
      "corner at: (193.0, 100.0) is connected to: [(193, 36), (193, 107), (233.0, 100.0)]\n",
      "corner at: (193, 107) is connected to: [(127, 107), (193, 145), (193, 100)]\n",
      "corner at: (193, 145) is connected to: [(193, 197), (193, 107), (233, 145)]\n",
      "corner at: (21.0, 36.0) is connected to: [(52, 36), (21.0, 107.0)]\n",
      "corner at: (21.0, 107.0) is connected to: [(30, 107), (21.0, 36.0)]\n",
      "corner at: (30, 107) is connected to: [(30.0, 130.0), (52, 107), (21, 107)]\n",
      "corner at: (52, 107) is connected to: [(30, 107), (127.0, 107.0), (52, 36)]\n",
      "corner at: (52, 36) is connected to: [(127.0, 36.0), (21.0, 36.0), (52, 107)]\n",
      "corner at: (127, 107) is connected to: [(127, 36), (193, 107), (52.0, 107.0)]\n",
      "corner at: (127, 36) is connected to: [(127, 107), (52.0, 36.0), (193, 36)]\n",
      "corner at: (193, 36) is connected to: [(127, 36), (193, 100)]\n",
      "corner at: (193, 197) is connected to: [(233.0, 197.0), (135, 197), (193.0, 145.0)]\n",
      "corner at: (52.0, 130.0) is connected to: [(52.0, 197.0), (30.0, 130.0)]\n",
      "corner at: (30.0, 130.0) is connected to: [(30, 107), (52.0, 130.0)]\n",
      "corner at: (233.0, 197.0) is connected to: [(193.0, 197.0), (233.0, 145.0)]\n"
     ]
    }
   ],
   "source": [
    "\"\"\"\n",
    "Open annot.py file. and anot file is a special type of dictionary within an numpy array.\n",
    "The annot is a dictionary with as keys the corners and corresponding value is a list of the corners\n",
    "to which the key corner is connected. The annot files provide a list of interior and exterior walls.\n",
    "\"\"\"\n",
    "PATH_ANNOT = r'..\\heat\\data\\s3d_floorplan\\annot\\00035.npy'\n",
    "annot = np.load(PATH_ANNOT,allow_pickle=True)\n",
    "print('annot is type:',type(annot))\n",
    "print('annot_item is type:',type(annot.item()))\n",
    "corner_connections = dict(annot.item())\n",
    "print('corner_connections is type:',type(corner_connections))\n",
    "corners = corner_connections.keys()\n",
    "\n",
    "for corner in corners:\n",
    "    print('corner at:',corner,'is connected to:',corner_connections[corner])\n"
   ]
  },
  {
   "cell_type": "code",
   "execution_count": 121,
   "id": "04084497",
   "metadata": {},
   "outputs": [
    {
     "data": {
      "text/plain": [
       "([{0: <POLYGON ((64 50, 64 146, 124 146, 124 166, 141 166, 141 50, 64 50))>,\n",
       "   1: <POLYGON ((64 149, 64 207, 121 207, 121 149, 64 149))>,\n",
       "   2: <POLYGON ((144 149, 144 207, 193 207, 193 149, 144 149))>,\n",
       "   3: <POLYGON ((144 50, 144 71, 193 71, 193 50, 144 50))>,\n",
       "   4: <POLYGON ((144 74, 144 94, 193 94, 193 74, 144 74))>,\n",
       "   5: <POLYGON ((144 97, 144 146, 193 146, 193 97, 144 97))>},\n",
       "  {0: <POLYGON ((141 56, 141 71, 144 71, 144 56, 141 56))>,\n",
       "   1: <POLYGON ((141 72, 141 87, 144 87, 144 72, 141 72))>,\n",
       "   2: <POLYGON ((141 97, 141 112, 144 112, 144 97, 141 97))>,\n",
       "   3: <POLYGON ((141 149, 141 164, 144 164, 144 149, 141 149))>,\n",
       "   4: <POLYGON ((121 150, 121 165, 124 165, 124 150, 121 150))>},\n",
       "  {0: <POLYGON ((144 50, 144 71, 193 71, 193 50, 144 50))>,\n",
       "   1: <POLYGON ((144 74, 144 94, 193 94, 193 74, 144 74))>,\n",
       "   2: <POLYGON ((144 97, 144 146, 193 146, 193 97, 144 97))>,\n",
       "   3: <POLYGON ((64 50, 64 146, 124 146, 124 166, 141 166, 141 50, 64 50))>,\n",
       "   4: <POLYGON ((61 47, 61 210, 124 210, 124 169, 141 169, 141 210, 195 210, 196 2...>,\n",
       "   5: <POLYGON ((64 149, 64 207, 121 207, 121 149, 64 149))>,\n",
       "   6: <POLYGON ((144 149, 144 207, 193 207, 193 149, 144 149))>}],\n",
       " [{0: 0, 1: 1, 2: 1, 3: 2, 4: 3, 5: 7},\n",
       "  {0: 17, 1: 17, 2: 17, 3: 17, 4: 17},\n",
       "  {0: 12, 1: 12, 2: 12, 3: 12, 4: 12, 5: 12, 6: 12}])"
      ]
     },
     "execution_count": 121,
     "metadata": {},
     "output_type": "execute_result"
    }
   ],
   "source": [
    "polygon"
   ]
  },
  {
   "cell_type": "code",
   "execution_count": 185,
   "id": "a86d16bc",
   "metadata": {},
   "outputs": [
    {
     "name": "stdout",
     "output_type": "stream",
     "text": [
      "7\n",
      "POLYGON ((61 47, 61 210, 124 210, 124 169, 141 169, 141 210, 195 210, 196 210, 196 47, 61 47), (144 149, 193 149, 193 207, 144 207, 144 149), (64 50, 64 146, 124 146, 124 166, 141 166, 141 50, 64 50), (64 149, 121 149, 121 207, 64 207, 64 149), (144 50, 144 71, 193 71, 193 50, 144 50), (144 97, 193 97, 193 146, 144 146, 144 97), (144 74, 144 94, 193 94, 193 74, 144 74))\n"
     ]
    },
    {
     "name": "stderr",
     "output_type": "stream",
     "text": [
      "C:\\Users\\woute\\AppData\\Local\\Temp\\ipykernel_2632\\2964541286.py:7: UserWarning: Unpickling a shapely <2.0 geometry object. Please save the pickle again; shapely 2.1 will not have this compatibility.\n",
      "  polygon = pickle.load(open('../RPLAN/geometry/10.pickle', 'rb'))\n"
     ]
    },
    {
     "data": {
      "image/png": "[encoded data removed]",
      "text/plain": [
       "<Figure size 640x480 with 1 Axes>"
      ]
     },
     "metadata": {},
     "output_type": "display_data"
    }
   ],
   "source": [
    "\"\"\"\n",
    "The geometry files contain. A tuple, with infomation about the geometry of the rooms. Rooms are\n",
    "notated as polygons. Which can be seperatly plotted with the plot_polygon function. We suspect\n",
    "that only polygons of the wall_type are needed for the creation of a annot file.\n",
    "\"\"\"\n",
    "# first lets load a polygon\n",
    "polygon = pickle.load(open('../RPLAN/geometry/10.pickle', 'rb'))\n",
    "\n",
    "# first lets seperate a polygon type into its components:\n",
    "room_polygons, room_types = polygon[0][0], polygon[1][0]\n",
    "door_polygons, door_types = polygon[0][1], polygon[1][1]\n",
    "wall_polygons, wall_types = polygon[0][2], polygon[1][2]\n",
    "\n",
    "print(len(wall_polygons.keys()))\n",
    "print(wall_polygons[4])\n",
    "#create an image\n",
    "fig1, ax = plt.subplots()\n",
    "ax.imshow(np.zeros((256, 256)), alpha=0)\n",
    "ax.axis('off')\n",
    "\n",
    "\n",
    "# first let plot the walls\n",
    "for key in wall_polygons.keys():\n",
    "    plot_polygon(ax,wall_polygons[key])\n",
    "    \n",
    "# Lets create a polygon called wall_surface which indicates the wall eg between the rooms"
   ]
  },
  {
   "cell_type": "markdown",
   "id": "cd2eb2ef",
   "metadata": {},
   "source": [
    "To check the accuracy of the predicted labels (generated Annot files) a GT labels (geometry files) correspond to the. We simply check wether a the predicted corners and edges lie within the wall surface. The wall-surface is a surface from the Shapely module. This surface can 'hopefully' be crated using the wall-polygons. \n",
    "One easy to spot problem with this approach is the following:\n",
    "- if the predicted corners and edges are all within one wall. Then the algoritm will label the predictions as correct while the geometry of the floorplan is compleetly incorrect.\n",
    "\n",
    "\n"
   ]
  },
  {
   "cell_type": "code",
   "execution_count": 115,
   "id": "3eec9bd2",
   "metadata": {},
   "outputs": [],
   "source": [
    "\n"
   ]
  },
  {
   "cell_type": "code",
   "execution_count": null,
   "id": "4b883cfd",
   "metadata": {},
   "outputs": [],
   "source": []
  }
 ],
 "metadata": {
  "kernelspec": {
   "display_name": "heat",
   "language": "python",
   "name": "heat"
  },
  "language_info": {
   "codemirror_mode": {
    "name": "ipython",
    "version": 3
   },
   "file_extension": ".py",
   "mimetype": "text/x-python",
   "name": "python",
   "nbconvert_exporter": "python",
   "pygments_lexer": "ipython3",
   "version": "3.10.10"
  }
 },
 "nbformat": 4,
 "nbformat_minor": 5
}
