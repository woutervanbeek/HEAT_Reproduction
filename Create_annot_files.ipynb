{
 "cells": [
  {
   "cell_type": "code",
   "execution_count": 1,
   "id": "8fdc0cf5",
   "metadata": {},
   "outputs": [
    {
     "data": {
      "text/plain": [
       "'C:\\\\Users\\\\woute\\\\Documents\\\\Reproduction_project\\\\HEAT_Reproduction'"
      ]
     },
     "execution_count": 1,
     "metadata": {},
     "output_type": "execute_result"
    }
   ],
   "source": [
    "pwd"
   ]
  },
  {
   "cell_type": "code",
   "execution_count": 2,
   "id": "7cf1db9d",
   "metadata": {},
   "outputs": [],
   "source": [
    "import pickle\n",
    "from plot import plot_graph_rplan, plot_polygons_rplan, plot_polygon\n",
    "import matplotlib.pyplot as plt\n",
    "from matplotlib.path import Path\n",
    "from matplotlib.patches import PathPatch\n",
    "from matplotlib.collections import PatchCollection\n",
    "from utils import ROOM_ARRAY_Z\n",
    "import numpy as np\n",
    "import shapely\n",
    "from shapely.geometry import Polygon, MultiPolygon, Point\n",
    "from PIL import Image"
   ]
  },
  {
   "cell_type": "code",
   "execution_count": 3,
   "id": "70290383",
   "metadata": {
    "scrolled": true
   },
   "outputs": [
    {
     "name": "stderr",
     "output_type": "stream",
     "text": [
      "C:\\Users\\woute\\AppData\\Local\\Temp\\ipykernel_9576\\840577373.py:8: UserWarning: Unpickling a shapely <2.0 geometry object. Please save the pickle again; shapely 2.1 will not have this compatibility.\n",
      "  polygon = pickle.load(open('../RPLAN/geometry/7.pickle', 'rb'))\n"
     ]
    },
    {
     "data": {
      "image/png": "[encoded data removed]",
      "text/plain": [
       "<Figure size 640x480 with 1 Axes>"
      ]
     },
     "metadata": {},
     "output_type": "display_data"
    }
   ],
   "source": [
    "\"\"\"\n",
    "This code prints a polygon as saved in the geometry files. I suspect that it only plot the edges of\n",
    "the walls. It could maybe be possible to select the interior walls and print those. Or select the\n",
    "interior and exterior walls and convert them to a annot.npy file.\n",
    "\"\"\"\n",
    "COLORS = [np.array(ROOM_ARRAY_Z[n][1])/255 for n in range(18)]\n",
    "\n",
    "polygon = pickle.load(open('../RPLAN/geometry/7.pickle', 'rb'))\n",
    "\n",
    "# fig, axs = plt.subplots(figsize=(250/DPI, 250/DPI), dpi=DPI)\n",
    "fig, axs = plt.subplots()\n",
    "# This makes the image based on the polygon input\n",
    "plot_polygons_rplan(polygon, axs, colors=COLORS)"
   ]
  },
  {
   "cell_type": "code",
   "execution_count": 4,
   "id": "145d32de",
   "metadata": {},
   "outputs": [
    {
     "name": "stdout",
     "output_type": "stream",
     "text": [
      "annot is type: <class 'numpy.ndarray'>\n",
      "annot_item is type: <class 'collections.defaultdict'>\n",
      "corner_connections is type: <class 'dict'>\n",
      "corner at: (135.0, 233.0) is connected to: [(135, 197), (52.0, 233.0)]\n",
      "corner at: (52.0, 233.0) is connected to: [(52, 197), (135.0, 233.0)]\n",
      "corner at: (52, 197) is connected to: [(52.0, 130.0), (135, 197), (52.0, 233.0)]\n",
      "corner at: (135, 197) is connected to: [(52, 197), (193, 197), (135.0, 233.0)]\n",
      "corner at: (233, 145) is connected to: [(233.0, 197.0), (193, 145), (233.0, 100.0)]\n",
      "corner at: (233.0, 100.0) is connected to: [(233, 145), (193.0, 100.0)]\n",
      "corner at: (193.0, 100.0) is connected to: [(193, 36), (193, 107), (233.0, 100.0)]\n",
      "corner at: (193, 107) is connected to: [(127, 107), (193, 145), (193, 100)]\n",
      "corner at: (193, 145) is connected to: [(193, 197), (193, 107), (233, 145)]\n",
      "corner at: (21.0, 36.0) is connected to: [(52, 36), (21.0, 107.0)]\n",
      "corner at: (21.0, 107.0) is connected to: [(30, 107), (21.0, 36.0)]\n",
      "corner at: (30, 107) is connected to: [(30.0, 130.0), (52, 107), (21, 107)]\n",
      "corner at: (52, 107) is connected to: [(30, 107), (127.0, 107.0), (52, 36)]\n",
      "corner at: (52, 36) is connected to: [(127.0, 36.0), (21.0, 36.0), (52, 107)]\n",
      "corner at: (127, 107) is connected to: [(127, 36), (193, 107), (52.0, 107.0)]\n",
      "corner at: (127, 36) is connected to: [(127, 107), (52.0, 36.0), (193, 36)]\n",
      "corner at: (193, 36) is connected to: [(127, 36), (193, 100)]\n",
      "corner at: (193, 197) is connected to: [(233.0, 197.0), (135, 197), (193.0, 145.0)]\n",
      "corner at: (52.0, 130.0) is connected to: [(52.0, 197.0), (30.0, 130.0)]\n",
      "corner at: (30.0, 130.0) is connected to: [(30, 107), (52.0, 130.0)]\n",
      "corner at: (233.0, 197.0) is connected to: [(193.0, 197.0), (233.0, 145.0)]\n"
     ]
    }
   ],
   "source": [
    "\"\"\"\n",
    "Open annot.py file. and anot file is a special type of dictionary within an numpy array.\n",
    "The annot is a dictionary with as keys the corners and corresponding value is a list of the corners\n",
    "to which the key corner is connected. The annot files provide a list of interior and exterior walls.\n",
    "\"\"\"\n",
    "PATH_ANNOT = r'..\\heat\\data\\s3d_floorplan\\annot\\00035.npy'\n",
    "annot = np.load(PATH_ANNOT,allow_pickle=True)\n",
    "print('annot is type:',type(annot))\n",
    "print('annot_item is type:',type(annot.item()))\n",
    "corner_connections = dict(annot.item())\n",
    "print('corner_connections is type:',type(corner_connections))\n",
    "corners = corner_connections.keys()\n",
    "\n",
    "for corner in corners:\n",
    "    print('corner at:',corner,'is connected to:',corner_connections[corner])\n"
   ]
  },
  {
   "cell_type": "code",
   "execution_count": 5,
   "id": "04084497",
   "metadata": {},
   "outputs": [
    {
     "data": {
      "text/plain": [
       "([{0: <POLYGON ((116 64, 116 111, 115 111, 74 111, 74 124, 91 124, 91 186, 148 186...>,\n",
       "   1: <POLYGON ((74 127, 74 148, 75 148, 75 149, 74 149, 74 150, 73 150, 41 150, 4...>,\n",
       "   2: <POLYGON ((154 52, 154 108, 178 108, 178 52, 154 52))>,\n",
       "   3: <POLYGON ((41 127, 41 147, 71 147, 71 127, 41 127))>,\n",
       "   4: <POLYGON ((74 64, 74 108, 113 108, 113 64, 74 64))>,\n",
       "   5: <POLYGON ((181 64, 181 108, 216 108, 216 64, 181 64))>,\n",
       "   6: <POLYGON ((56 99, 56 124, 71 124, 71 99, 56 99))>,\n",
       "   7: <POLYGON ((91 189, 91 205, 148 205, 148 189, 91 189))>},\n",
       "  {0: <POLYGON ((151 87, 151 110, 154 110, 154 87, 151 87))>,\n",
       "   1: <POLYGON ((73 108, 73 111, 86 111, 86 108, 73 108))>,\n",
       "   2: <POLYGON ((180 108, 180 111, 193 111, 193 108, 180 108))>,\n",
       "   3: <POLYGON ((71 112, 71 125, 74 125, 74 112, 71 112))>,\n",
       "   4: <POLYGON ((77 124, 77 127, 90 127, 90 124, 77 124))>,\n",
       "   5: <POLYGON ((71 136, 71 149, 74 149, 74 136, 71 136))>,\n",
       "   6: <POLYGON ((103 186, 103 189, 136 189, 136 186, 103 186))>},\n",
       "  {0: <POLYGON ((154 52, 154 108, 178 108, 178 52, 154 52))>,\n",
       "   1: <POLYGON ((74 64, 74 108, 113 108, 113 64, 74 64))>,\n",
       "   2: <POLYGON ((181 64, 181 108, 216 108, 216 64, 181 64))>,\n",
       "   3: <POLYGON ((56 99, 56 124, 71 124, 71 99, 56 99))>,\n",
       "   4: <POLYGON ((41 127, 41 147, 71 147, 71 127, 41 127))>,\n",
       "   5: <POLYGON ((116 64, 116 111, 115 111, 74 111, 74 124, 91 124, 91 186, 148 186...>,\n",
       "   6: <POLYGON ((74 127, 74 150, 73 150, 41 150, 41 198, 87 198, 88 198, 88 127, 7...>,\n",
       "   7: <POLYGON ((91 189, 91 205, 148 205, 148 189, 91 189))>,\n",
       "   8: <POLYGON ((151 49, 151 61, 150 61, 71 61, 71 96, 70 96, 53 96, 53 124, 52 12...>}],\n",
       " [{0: 0, 1: 1, 2: 2, 3: 3, 4: 7, 5: 7, 6: 9, 7: 9},\n",
       "  {0: 17, 1: 17, 2: 17, 3: 17, 4: 17, 5: 17, 6: 17},\n",
       "  {0: 12, 1: 12, 2: 12, 3: 12, 4: 12, 5: 12, 6: 12, 7: 12, 8: 12}])"
      ]
     },
     "execution_count": 5,
     "metadata": {},
     "output_type": "execute_result"
    }
   ],
   "source": [
    "polygon"
   ]
  },
  {
   "cell_type": "code",
   "execution_count": 6,
   "id": "a86d16bc",
   "metadata": {},
   "outputs": [
    {
     "name": "stdout",
     "output_type": "stream",
     "text": [
      "9\n",
      "POLYGON ((41 127, 41 147, 71 147, 71 127, 41 127))\n"
     ]
    },
    {
     "name": "stderr",
     "output_type": "stream",
     "text": [
      "C:\\Users\\woute\\AppData\\Local\\Temp\\ipykernel_9576\\3820233575.py:7: UserWarning: Unpickling a shapely <2.0 geometry object. Please save the pickle again; shapely 2.1 will not have this compatibility.\n",
      "  polygon = pickle.load(open('../RPLAN/geometry/7.pickle', 'rb'))\n"
     ]
    },
    {
     "data": {
      "image/png": "[encoded data removed]",
      "text/plain": [
       "<Figure size 640x480 with 1 Axes>"
      ]
     },
     "metadata": {},
     "output_type": "display_data"
    }
   ],
   "source": [
    "\"\"\"\n",
    "The geometry files contain. A tuple, with infomation about the geometry of the rooms. Rooms are\n",
    "notated as polygons. Which can be seperatly plotted with the plot_polygon function. We suspect\n",
    "that only polygons of the wall_type are needed for the creation of a annot file.\n",
    "\"\"\"\n",
    "# first lets load a polygon\n",
    "polygon = pickle.load(open('../RPLAN/geometry/7.pickle', 'rb'))\n",
    "\n",
    "# first lets seperate a polygon type into its components:\n",
    "room_polygons, room_types = polygon[0][0], polygon[1][0]\n",
    "door_polygons, door_types = polygon[0][1], polygon[1][1]\n",
    "wall_polygons, wall_types = polygon[0][2], polygon[1][2]\n",
    "\n",
    "print(len(wall_polygons.keys()))\n",
    "print(wall_polygons[4])\n",
    "#create an image\n",
    "fig1, ax = plt.subplots()\n",
    "ax.imshow(np.zeros((256, 256)), alpha=0)\n",
    "ax.axis('off')\n",
    "\n",
    "\n",
    "# first let plot the walls\n",
    "for key in wall_polygons.keys():\n",
    "    plot_polygon(ax,wall_polygons[key])\n",
    "    \n",
    "# Lets create a polygon called wall_surface which indicates the wall eg between the rooms"
   ]
  },
  {
   "cell_type": "markdown",
   "id": "cd2eb2ef",
   "metadata": {},
   "source": [
    "To check the accuracy of the predicted labels (generated Annot files) a GT labels (geometry files) correspond to the. We simply check wether a the predicted corners and edges lie within the wall surface. The wall-surface is a surface from the Shapely module. This surface can 'hopefully' be crated using the wall-polygons. \n",
    "One easy to spot problem with this approach is the following:\n",
    "- if the predicted corners and edges are all within one wall. Then the algoritm will label the predictions as correct while the geometry of the floorplan is compleetly incorrect.\n",
    "\n",
    "\n"
   ]
  },
  {
   "cell_type": "code",
   "execution_count": 7,
   "id": "3eec9bd2",
   "metadata": {},
   "outputs": [
    {
     "data": {
      "image/png": "[encoded data removed]",
      "text/plain": [
       "<Figure size 640x480 with 1 Axes>"
      ]
     },
     "metadata": {},
     "output_type": "display_data"
    }
   ],
   "source": [
    "vis_prediction = np.asarray(Image.open('../heat/s3d_floorplan_eval/viz_heat_RPLAN_small/1_results.png'))\n",
    "fig, ax = plt.subplots()\n",
    "ax.imshow(vis_prediction, alpha=0.8)\n",
    "ax.axis('off')\n",
    "\n",
    "# first let plot the walls\n",
    "for key in wall_polygons.keys():\n",
    "    plot_polygon(ax,wall_polygons[key], alpha=1)"
   ]
  },
  {
   "cell_type": "code",
   "execution_count": null,
   "id": "4b883cfd",
   "metadata": {},
   "outputs": [],
   "source": []
  }
 ],
 "metadata": {
  "kernelspec": {
   "display_name": "heat",
   "language": "python",
   "name": "heat"
  },
  "language_info": {
   "codemirror_mode": {
    "name": "ipython",
    "version": 3
   },
   "file_extension": ".py",
   "mimetype": "text/x-python",
   "name": "python",
   "nbconvert_exporter": "python",
   "pygments_lexer": "ipython3",
   "version": "3.10.10"
  }
 },
 "nbformat": 4,
 "nbformat_minor": 5
}
