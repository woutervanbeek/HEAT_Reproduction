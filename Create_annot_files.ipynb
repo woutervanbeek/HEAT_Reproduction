{
 "cells": [
  {
   "cell_type": "code",
   "execution_count": 2,
   "id": "8fdc0cf5",
   "metadata": {},
   "outputs": [
    {
     "data": {
      "text/plain": [
       "'C:\\\\Users\\\\woute\\\\Documents\\\\Reproduction_project\\\\HEAT_Reproduction'"
      ]
     },
     "execution_count": 2,
     "metadata": {},
     "output_type": "execute_result"
    }
   ],
   "source": [
    "pwd"
   ]
  },
  {
   "cell_type": "code",
   "execution_count": 3,
   "id": "7cf1db9d",
   "metadata": {},
   "outputs": [],
   "source": [
    "import pickle\n",
    "from plot import plot_graph_rplan, plot_polygons_rplan\n",
    "import matplotlib.pyplot as plt\n",
    "from utils import ROOM_ARRAY_Z\n",
    "import numpy as np\n",
    "from PIL import Image"
   ]
  },
  {
   "cell_type": "code",
   "execution_count": 4,
   "id": "70290383",
   "metadata": {
    "scrolled": true
   },
   "outputs": [
    {
     "name": "stderr",
     "output_type": "stream",
     "text": [
      "C:\\Users\\woute\\AppData\\Local\\Temp\\ipykernel_16032\\3623430642.py:1: UserWarning: Unpickling a shapely <2.0 geometry object. Please save the pickle again; shapely 2.1 will not have this compatibility.\n",
      "  polygon = pickle.load(open('../RPLAN/geometry/5.pickle', 'rb'))\n"
     ]
    },
    {
     "data": {
      "text/plain": [
       "([{0: <POLYGON ((124 79, 124 97, 123 97, 54 97, 54 105, 53 105, 43 105, 43 150, 54...>,\n",
       "   1: <POLYGON ((54 163, 54 203, 121 203, 121 163, 54 163))>,\n",
       "   2: <POLYGON ((156 137, 156 169, 214 169, 214 137, 156 137))>,\n",
       "   3: <POLYGON ((115 54, 115 76, 146 76, 146 54, 115 54))>,\n",
       "   4: <POLYGON ((54 54, 54 94, 121 94, 121 79, 112 79, 112 54, 54 54))>,\n",
       "   5: <POLYGON ((149 54, 149 94, 197 94, 197 54, 149 54))>},\n",
       "  {0: <POLYGON ((125 76, 125 79, 136 79, 136 76, 125 76))>,\n",
       "   1: <POLYGON ((146 81, 146 92, 149 92, 149 81, 146 81))>,\n",
       "   2: <POLYGON ((121 82, 121 93, 124 93, 124 82, 121 82))>,\n",
       "   3: <POLYGON ((171 134, 171 137, 194 137, 194 134, 171 134))>,\n",
       "   4: <POLYGON ((100 160, 100 163, 113 163, 113 160, 100 160))>},\n",
       "  {0: <POLYGON ((115 54, 115 76, 146 76, 146 54, 115 54))>,\n",
       "   1: <POLYGON ((54 54, 54 94, 121 94, 121 79, 112 79, 112 54, 54 54))>,\n",
       "   2: <POLYGON ((149 54, 149 94, 197 94, 197 54, 149 54))>,\n",
       "   3: <POLYGON ((124 79, 124 97, 123 97, 54 97, 54 105, 53 105, 43 105, 43 150, 54...>,\n",
       "   4: <POLYGON ((156 137, 156 169, 214 169, 214 137, 156 137))>,\n",
       "   5: <POLYGON ((54 163, 54 203, 121 203, 121 163, 54 163))>,\n",
       "   6: <POLYGON ((51 51, 51 102, 50 102, 40 102, 40 153, 51 153, 51 206, 124 206, 1...>}],\n",
       " [{0: 0, 1: 1, 2: 2, 3: 3, 4: 5, 5: 6},\n",
       "  {0: 17, 1: 17, 2: 17, 3: 17, 4: 17},\n",
       "  {0: 12, 1: 12, 2: 12, 3: 12, 4: 12, 5: 12, 6: 12}])"
      ]
     },
     "execution_count": 4,
     "metadata": {},
     "output_type": "execute_result"
    }
   ],
   "source": [
    "polygon = pickle.load(open('../RPLAN/geometry/5.pickle', 'rb'))\n",
    "polygon"
   ]
  },
  {
   "cell_type": "code",
   "execution_count": 9,
   "id": "53ba8eb1",
   "metadata": {},
   "outputs": [
    {
     "data": {
      "text/plain": [
       "'\\nHere we check wether the corners are still in the correct position\\n'"
      ]
     },
     "execution_count": 9,
     "metadata": {},
     "output_type": "execute_result"
    }
   ],
   "source": [
    "\"\"\"\n",
    "Here we check wether the corners are still in the correct position\n",
    "\"\"\""
   ]
  },
  {
   "cell_type": "code",
   "execution_count": 16,
   "id": "145d32de",
   "metadata": {},
   "outputs": [
    {
     "name": "stdout",
     "output_type": "stream",
     "text": [
      "annot is type: <class 'numpy.ndarray'>\n",
      "corner_connections is type: <class 'dict'>\n",
      "corner at: (135.0, 233.0) is connected to: [(135, 197), (52.0, 233.0)]\n",
      "corner at: (52.0, 233.0) is connected to: [(52, 197), (135.0, 233.0)]\n",
      "corner at: (52, 197) is connected to: [(52.0, 130.0), (135, 197), (52.0, 233.0)]\n",
      "corner at: (135, 197) is connected to: [(52, 197), (193, 197), (135.0, 233.0)]\n",
      "corner at: (233, 145) is connected to: [(233.0, 197.0), (193, 145), (233.0, 100.0)]\n",
      "corner at: (233.0, 100.0) is connected to: [(233, 145), (193.0, 100.0)]\n",
      "corner at: (193.0, 100.0) is connected to: [(193, 36), (193, 107), (233.0, 100.0)]\n",
      "corner at: (193, 107) is connected to: [(127, 107), (193, 145), (193, 100)]\n",
      "corner at: (193, 145) is connected to: [(193, 197), (193, 107), (233, 145)]\n",
      "corner at: (21.0, 36.0) is connected to: [(52, 36), (21.0, 107.0)]\n",
      "corner at: (21.0, 107.0) is connected to: [(30, 107), (21.0, 36.0)]\n",
      "corner at: (30, 107) is connected to: [(30.0, 130.0), (52, 107), (21, 107)]\n",
      "corner at: (52, 107) is connected to: [(30, 107), (127.0, 107.0), (52, 36)]\n",
      "corner at: (52, 36) is connected to: [(127.0, 36.0), (21.0, 36.0), (52, 107)]\n",
      "corner at: (127, 107) is connected to: [(127, 36), (193, 107), (52.0, 107.0)]\n",
      "corner at: (127, 36) is connected to: [(127, 107), (52.0, 36.0), (193, 36)]\n",
      "corner at: (193, 36) is connected to: [(127, 36), (193, 100)]\n",
      "corner at: (193, 197) is connected to: [(233.0, 197.0), (135, 197), (193.0, 145.0)]\n",
      "corner at: (52.0, 130.0) is connected to: [(52.0, 197.0), (30.0, 130.0)]\n",
      "corner at: (30.0, 130.0) is connected to: [(30, 107), (52.0, 130.0)]\n",
      "corner at: (233.0, 197.0) is connected to: [(193.0, 197.0), (233.0, 145.0)]\n"
     ]
    }
   ],
   "source": [
    "\"\"\"\n",
    "Open annot.py file\n",
    "\"\"\"\n",
    "PATH_ANNOT = r'..\\heat\\data\\s3d_floorplan\\annot\\00035.npy'\n",
    "annot = np.load(PATH_ANNOT,allow_pickle=True)\n",
    "print('annot is type:',type(annot))\n",
    "corner_connections = dict(annot.item())\n",
    "print('corner_connections is type:',type(corner_connections))\n",
    "corners = corner_connections.keys()\n",
    "\n",
    "for corner in corners:\n",
    "    print('corner at:',corner,'is connected to:',corner_connections[corner])\n"
   ]
  },
  {
   "cell_type": "code",
   "execution_count": null,
   "id": "a86d16bc",
   "metadata": {},
   "outputs": [],
   "source": [
    "\"\"\"\n",
    "Apply preprocessing on both images.\n",
    "\"\"\"\n"
   ]
  }
 ],
 "metadata": {
  "kernelspec": {
   "display_name": "heat",
   "language": "python",
   "name": "heat"
  },
  "language_info": {
   "codemirror_mode": {
    "name": "ipython",
    "version": 3
   },
   "file_extension": ".py",
   "mimetype": "text/x-python",
   "name": "python",
   "nbconvert_exporter": "python",
   "pygments_lexer": "ipython3",
   "version": "3.10.10"
  }
 },
 "nbformat": 4,
 "nbformat_minor": 5
}
