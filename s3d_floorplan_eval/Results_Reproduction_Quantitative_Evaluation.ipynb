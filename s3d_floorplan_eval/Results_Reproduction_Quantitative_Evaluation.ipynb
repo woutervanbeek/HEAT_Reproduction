{
 "cells": [
  {
   "cell_type": "code",
   "execution_count": 7,
   "id": "3cdbe828",
   "metadata": {
    "scrolled": true
   },
   "outputs": [
    {
     "name": "stderr",
     "output_type": "stream",
     "text": [
      "usage: ipykernel_launcher.py [-h] [--mcts_path MCTS_PATH] [--dataset_path DATASET_PATH]\n",
      "                             [--dataset_type {floornet,s3d,fsp}] [--scene_id SCENE_ID]\n",
      "                             [--min_scene_ind MIN_SCENE_IND] [--max_scene_ind MAX_SCENE_IND]\n",
      "                             [--height HEIGHT] [--width WIDTH]\n",
      "ipykernel_launcher.py: error: unrecognized arguments: -f C:\\Users\\djans\\AppData\\Roaming\\jupyter\\runtime\\kernel-18f50d24-454d-4a99-8679-df428932f0f0.json\n"
     ]
    },
    {
     "ename": "SystemExit",
     "evalue": "2",
     "output_type": "error",
     "traceback": [
      "An exception has occurred, use %tb to see the full traceback.\n",
      "\u001b[1;31mSystemExit\u001b[0m\u001b[1;31m:\u001b[0m 2\n"
     ]
    }
   ],
   "source": [
    "from evaluate_solution import evaluate_solution"
   ]
  },
  {
   "cell_type": "code",
   "execution_count": 5,
   "id": "b418351c",
   "metadata": {},
   "outputs": [
    {
     "ename": "NameError",
     "evalue": "name 'evaluate_solution' is not defined",
     "output_type": "error",
     "traceback": [
      "\u001b[1;31m---------------------------------------------------------------------------\u001b[0m",
      "\u001b[1;31mNameError\u001b[0m                                 Traceback (most recent call last)",
      "Cell \u001b[1;32mIn[5], line 5\u001b[0m\n\u001b[0;32m      2\u001b[0m dataset_type \u001b[38;5;241m=\u001b[39m \u001b[38;5;124m'\u001b[39m\u001b[38;5;124ms3d\u001b[39m\u001b[38;5;124m'\u001b[39m \n\u001b[0;32m      3\u001b[0m scene_id \u001b[38;5;241m=\u001b[39m \u001b[38;5;124m'\u001b[39m\u001b[38;5;124mval\u001b[39m\u001b[38;5;124m'\u001b[39m\n\u001b[1;32m----> 5\u001b[0m \u001b[43mevaluate_solution\u001b[49m(dataset_path, dataset_type, scene_id)\n",
      "\u001b[1;31mNameError\u001b[0m: name 'evaluate_solution' is not defined"
     ]
    }
   ],
   "source": [
    "dataset_path = './montefloor_data'\n",
    "dataset_type = 's3d' \n",
    "scene_id = 'val'\n",
    "\n",
    "evaluate_solution(dataset_path, dataset_type, scene_id)"
   ]
  },
  {
   "cell_type": "code",
   "execution_count": null,
   "id": "3e91563d",
   "metadata": {},
   "outputs": [],
   "source": []
  }
 ],
 "metadata": {
  "kernelspec": {
   "display_name": "heat",
   "language": "python",
   "name": "heat"
  },
  "language_info": {
   "codemirror_mode": {
    "name": "ipython",
    "version": 3
   },
   "file_extension": ".py",
   "mimetype": "text/x-python",
   "name": "python",
   "nbconvert_exporter": "python",
   "pygments_lexer": "ipython3",
   "version": "3.10.9"
  }
 },
 "nbformat": 4,
 "nbformat_minor": 5
}
