{
 "cells": [
  {
   "cell_type": "code",
   "execution_count": 17,
   "id": "b96ee548",
   "metadata": {},
   "outputs": [],
   "source": [
    "import os\n",
    "from PIL import Image\n",
    "import pickle\n",
    "import matplotlib.pyplot as plt\n",
    "from matplotlib.path import Path\n",
    "from matplotlib.patches import PathPatch\n",
    "from matplotlib.collections import PatchCollection\n",
    "from shapely.geometry import Polygon, MultiPolygon, Point\n",
    "from plot import plot_graph_rplan, plot_polygons_rplan, plot_polygon\n"
   ]
  },
  {
   "cell_type": "code",
   "execution_count": 5,
   "id": "d724a5af",
   "metadata": {},
   "outputs": [],
   "source": [
    "folder_vis = r\"..\\heat\\results\\visualize_heat_RPLAN_small\"\n",
    "folder_geo = r\"..\\heat\\data\\RPLAN_small\\geometry\"\n",
    "folder_max = r\"..\\heat\\data\\RPLAN_small\\max\"  \n",
    "folder_input_output = r\"..\\heat\\results\\input_output\"\n",
    "folder_output_gt = r\"..\\heat\\results\\output_gt\""
   ]
  },
  {
   "cell_type": "code",
   "execution_count": null,
   "id": "ef070220",
   "metadata": {},
   "outputs": [
    {
     "name": "stdout",
     "output_type": "stream",
     "text": [
      "00000.png 00000.pickle 00000.png\n"
     ]
    },
    {
     "name": "stderr",
     "output_type": "stream",
     "text": [
      "C:\\Users\\djans\\AppData\\Local\\Temp\\ipykernel_1604\\1930358576.py:10: UserWarning: Unpickling a shapely <2.0 geometry object. Please save the pickle again; shapely 2.1 will not have this compatibility.\n",
      "  geo_image = pickle.load(open(os.path.join(folder_geo,name_geo),'rb'))\n"
     ]
    }
   ],
   "source": [
    "vis_list = os.listdir(folder_vis)\n",
    "geo_list = os.listdir(folder_geo)\n",
    "max_list = os.listdir(folder_max)\n",
    "\n",
    "for nr, name_vis in enumerate(vis_list):\n",
    "    name_geo = geo_list[nr]\n",
    "    name_max = max_list[nr]\n",
    "    print(name_vis, name_geo, name_max)\n",
    "    vis_image = Image.open(os.path.join(folder_vis,name_vis))\n",
    "    geo_image = pickle.load(open(os.path.join(folder_geo,name_geo),'rb'))\n",
    "    max_image = Image.open(os.path.join(folder_max,name_max))\n",
    "\n",
    "#     fig, ax = plt.subplots()\n",
    "#     ax.imshow(vis_image, alpha=0.8)\n",
    "#     ax.axis('off')\n",
    "    \n",
    "#     wall_geo, wall_types = geo_image[0][2], geo_image[1][2]\n",
    "\n",
    "#     # first let plot the walls\n",
    "#     for key in wall_geo.keys():\n",
    "#         plot_polygon(ax,wall_geo[key],c='yellow')\n",
    "        \n",
    "    Image.alpha_composite(max_image,vis_image).show()\n",
    "    "
   ]
  },
  {
   "cell_type": "code",
   "execution_count": null,
   "id": "03ad4f6d",
   "metadata": {},
   "outputs": [],
   "source": []
  }
 ],
 "metadata": {
  "kernelspec": {
   "display_name": "heat",
   "language": "python",
   "name": "heat"
  },
  "language_info": {
   "codemirror_mode": {
    "name": "ipython",
    "version": 3
   },
   "file_extension": ".py",
   "mimetype": "text/x-python",
   "name": "python",
   "nbconvert_exporter": "python",
   "pygments_lexer": "ipython3",
   "version": "3.10.9"
  }
 },
 "nbformat": 4,
 "nbformat_minor": 5
}
