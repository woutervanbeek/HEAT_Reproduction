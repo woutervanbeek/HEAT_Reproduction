{
 "cells": [
  {
   "cell_type": "code",
   "execution_count": 4,
   "id": "8fdc0cf5",
   "metadata": {},
   "outputs": [
    {
     "data": {
      "text/plain": [
       "'C:\\\\Users\\\\woute\\\\Documents\\\\Reproduction_project\\\\HEAT_Reproduction'"
      ]
     },
     "execution_count": 4,
     "metadata": {},
     "output_type": "execute_result"
    }
   ],
   "source": [
    "pwd"
   ]
  },
  {
   "cell_type": "code",
   "execution_count": 5,
   "id": "7cf1db9d",
   "metadata": {},
   "outputs": [],
   "source": [
    "import pickle\n",
    "from plot import plot_graph_rplan, plot_polygons_rplan\n",
    "import matplotlib.pyplot as plt\n",
    "from utils import ROOM_ARRAY_Z\n",
    "import numpy as np\n",
    "from PIL import Image\n",
    "import os"
   ]
  },
  {
   "cell_type": "code",
   "execution_count": 6,
   "id": "70290383",
   "metadata": {
    "scrolled": true
   },
   "outputs": [
    {
     "name": "stderr",
     "output_type": "stream",
     "text": [
      "C:\\Users\\woute\\AppData\\Local\\Temp\\ipykernel_9116\\563001981.py:3: UserWarning: Unpickling a shapely <2.0 geometry object. Please save the pickle again; shapely 2.1 will not have this compatibility.\n",
      "  polygon = pickle.load(open('../RPLAN/geometry/5.pickle', 'rb'))\n"
     ]
    }
   ],
   "source": [
    "COLORS = [np.array(ROOM_ARRAY_Z[n][1])/255 for n in range(18)]\n",
    "\n",
    "polygon = pickle.load(open('../RPLAN/geometry/5.pickle', 'rb'))"
   ]
  },
  {
   "cell_type": "code",
   "execution_count": 7,
   "id": "f561414d",
   "metadata": {},
   "outputs": [
    {
     "data": {
      "text/plain": [
       "<Figure size 640x480 with 0 Axes>"
      ]
     },
     "metadata": {},
     "output_type": "display_data"
    },
    {
     "data": {
      "image/png": "[encoded data removed]",
      "text/plain": [
       "<Figure size 640x480 with 1 Axes>"
      ]
     },
     "metadata": {},
     "output_type": "display_data"
    }
   ],
   "source": [
    "'''\n",
    "This will print the plot 256px by 256px and save it to the file test.png.\n",
    "TO DO:\n",
    "1. The origional image is not square so we need to check wether the corners\n",
    "   indicated in the geometry file are still in the correct location. \n",
    "   _>> the corners are not in the correct positons check with Krita.\n",
    "2. It could be that the preprocessing step works better if the rooms are\n",
    "   colored instead of white. If we want to use the preprosessing steps\n",
    "'''\n",
    "# Find the DPI of the screen\n",
    "fig = plt.figure()\n",
    "DPI = fig.dpi\n",
    "\n",
    "# This create the figure.\n",
    "# fig, axs = plt.subplots(figsize=(250/DPI, 250/DPI), dpi=DPI)\n",
    "fig, axs = plt.subplots()\n",
    "# This makes the image based on the polygon input\n",
    "plot_polygons_rplan(polygon, axs, colors=COLORS)\n",
    "\n",
    "# Save the figure to a specified file name \n",
    "# this produces and figure of 640x480 which is to big\n",
    "fig.savefig('../RPLAN/test.png') "
   ]
  },
  {
   "cell_type": "code",
   "execution_count": 14,
   "id": "d1a33a98",
   "metadata": {},
   "outputs": [
    {
     "name": "stdout",
     "output_type": "stream",
     "text": [
      "10.png Density done\n",
      "10.png Normal done\n",
      "11.png Density done\n",
      "11.png Normal done\n",
      "5.png Density done\n",
      "5.png Normal done\n",
      "7.png Density done\n",
      "7.png Normal done\n",
      "8.png Density done\n",
      "8.png Normal done\n"
     ]
    }
   ],
   "source": [
    "\"\"\"\n",
    "This will change the colors of all the .png files from folder_dir to match those\n",
    "of the density and normal images. \n",
    "\"\"\"\n",
    "\n",
    "folder_dir = \"..\\heat\\data\\RPLAN_small\\origional\"\n",
    "folder_density = r\"..\\heat\\data\\RPLAN_small\\density\"\n",
    "folder_normals = r\"..\\heat\\data\\RPLAN_small\\normals\"\n",
    "\n",
    "Background = (0,13,0,0)\n",
    "Outer_wall = (127,14,0,0)\n",
    "Inner_wall = (0,16,0,255)\n",
    "Door = (0,17,0,255)\n",
    "Front_door = (255,15,0,0)\n",
    "\n",
    "#for density\n",
    "dColor_Wall = (213,213,213,255) #white\n",
    "dColor_Room = (66,66,66,255) #Gray\n",
    "dColor_Background = (0,0,0,255) #Black\n",
    "\n",
    "#for normal\n",
    "nColor_Wall = (0,255,255,255)\n",
    "nColor_Room = (255,0,0,255)\n",
    "nColor_Background = (0,0,0,255) #Black\n",
    "\n",
    "for image_nmr in os.listdir(folder_dir):\n",
    "# check if the image ends with png\n",
    "    if (image_nmr.endswith(\".png\")):\n",
    "        \n",
    "        # Iterate through each pixel in the image and change color to density color scheme\n",
    "        density_image = Image.open(os.path.join(folder_dir,image_nmr))\n",
    "        for x in range(density_image.width):\n",
    "            for y in range(density_image.height):\n",
    "                pixel_color = density_image.getpixel((x, y))\n",
    "                if pixel_color in [Outer_wall,Inner_wall,Door,Front_door]:\n",
    "                    density_image.putpixel((x, y), dColor_Wall) # use (0,0,0,0) for alpha channel\n",
    "                if pixel_color == Background:\n",
    "                    density_image.putpixel((x, y), dColor_Background)\n",
    "                if pixel_color not in [Outer_wall,Inner_wall,Door,Front_door,Background]:\n",
    "                    density_image.putpixel((x, y), dColor_Room)\n",
    "        #Save the modified image to density folder\n",
    "        density_image.save(os.path.join(folder_density,image_nmr))\n",
    "        print(image_nmr,'Density done')\n",
    "        \n",
    "        \n",
    "        # Iterate through each pixel and change color to normal color scheme\n",
    "        normal_image = Image.open(os.path.join(folder_dir,image_nmr))\n",
    "        for x in range(normal_image.width):\n",
    "            for y in range(normal_image.height):\n",
    "                pixel_color = normal_image.getpixel((x, y))\n",
    "                if pixel_color in [Outer_wall,Inner_wall,Door,Front_door]:\n",
    "                    normal_image.putpixel((x, y), nColor_Wall) # use (0,0,0,0) for alpha channel\n",
    "                if pixel_color == Background:\n",
    "                    normal_image.putpixel((x, y), nColor_Background)\n",
    "                if pixel_color not in [Outer_wall,Inner_wall,Door,Front_door,Background]:\n",
    "                    normal_image.putpixel((x, y), nColor_Room)\n",
    "        #Save the modified image to normal folder\n",
    "        normal_image.save(os.path.join(folder_normals,image_nmr))\n",
    "        print(image_nmr,'Normal done')\n",
    "        \n",
    "    else:\n",
    "        print(image_nmr, 'not a .png file')\n",
    "        break\n"
   ]
  }
 ],
 "metadata": {
  "kernelspec": {
   "display_name": "heat",
   "language": "python",
   "name": "heat"
  },
  "language_info": {
   "codemirror_mode": {
    "name": "ipython",
    "version": 3
   },
   "file_extension": ".py",
   "mimetype": "text/x-python",
   "name": "python",
   "nbconvert_exporter": "python",
   "pygments_lexer": "ipython3",
   "version": "3.10.10"
  }
 },
 "nbformat": 4,
 "nbformat_minor": 5
}
