{
 "cells": [
  {
   "cell_type": "code",
   "execution_count": 5,
   "id": "8fdc0cf5",
   "metadata": {},
   "outputs": [
    {
     "data": {
      "text/plain": [
       "'C:\\\\Users\\\\djans\\\\Documents\\\\HEAT_reproduction\\\\Interior'"
      ]
     },
     "execution_count": 5,
     "metadata": {},
     "output_type": "execute_result"
    }
   ],
   "source": [
    "pwd"
   ]
  },
  {
   "cell_type": "code",
   "execution_count": 2,
   "id": "7cf1db9d",
   "metadata": {},
   "outputs": [],
   "source": [
    "import pickle\n",
    "from plot import plot_graph_rplan, plot_polygons_rplan\n",
    "import matplotlib.pyplot as plt\n",
    "from utils import ROOM_ARRAY_Z\n",
    "import numpy as np\n",
    "from PIL import Image"
   ]
  },
  {
   "cell_type": "code",
   "execution_count": 6,
   "id": "70290383",
   "metadata": {
    "scrolled": true
   },
   "outputs": [
    {
     "name": "stderr",
     "output_type": "stream",
     "text": [
      "C:\\Users\\djans\\AppData\\Local\\Temp\\ipykernel_1552\\1314480410.py:3: UserWarning: Unpickling a shapely <2.0 geometry object. Please save the pickle again; shapely 2.1 will not have this compatibility.\n",
      "  polygon = pickle.load(open('./Interior_plan/geometry/5.pickle', 'rb'))\n"
     ]
    },
    {
     "data": {
      "text/plain": [
       "([{0: <POLYGON ((124 79, 124 97, 123 97, 54 97, 54 105, 53 105, 43 105, 43 150, 54...>,\n",
       "   1: <POLYGON ((54 163, 54 203, 121 203, 121 163, 54 163))>,\n",
       "   2: <POLYGON ((156 137, 156 169, 214 169, 214 137, 156 137))>,\n",
       "   3: <POLYGON ((115 54, 115 76, 146 76, 146 54, 115 54))>,\n",
       "   4: <POLYGON ((54 54, 54 94, 121 94, 121 79, 112 79, 112 54, 54 54))>,\n",
       "   5: <POLYGON ((149 54, 149 94, 197 94, 197 54, 149 54))>},\n",
       "  {0: <POLYGON ((125 76, 125 79, 136 79, 136 76, 125 76))>,\n",
       "   1: <POLYGON ((146 81, 146 92, 149 92, 149 81, 146 81))>,\n",
       "   2: <POLYGON ((121 82, 121 93, 124 93, 124 82, 121 82))>,\n",
       "   3: <POLYGON ((171 134, 171 137, 194 137, 194 134, 171 134))>,\n",
       "   4: <POLYGON ((100 160, 100 163, 113 163, 113 160, 100 160))>},\n",
       "  {0: <POLYGON ((115 54, 115 76, 146 76, 146 54, 115 54))>,\n",
       "   1: <POLYGON ((54 54, 54 94, 121 94, 121 79, 112 79, 112 54, 54 54))>,\n",
       "   2: <POLYGON ((149 54, 149 94, 197 94, 197 54, 149 54))>,\n",
       "   3: <POLYGON ((124 79, 124 97, 123 97, 54 97, 54 105, 53 105, 43 105, 43 150, 54...>,\n",
       "   4: <POLYGON ((156 137, 156 169, 214 169, 214 137, 156 137))>,\n",
       "   5: <POLYGON ((54 163, 54 203, 121 203, 121 163, 54 163))>,\n",
       "   6: <POLYGON ((51 51, 51 102, 50 102, 40 102, 40 153, 51 153, 51 206, 124 206, 1...>}],\n",
       " [{0: 0, 1: 1, 2: 2, 3: 3, 4: 5, 5: 6},\n",
       "  {0: 17, 1: 17, 2: 17, 3: 17, 4: 17},\n",
       "  {0: 12, 1: 12, 2: 12, 3: 12, 4: 12, 5: 12, 6: 12}])"
      ]
     },
     "execution_count": 6,
     "metadata": {},
     "output_type": "execute_result"
    }
   ],
   "source": [
    "COLORS = [np.array(ROOM_ARRAY_Z[n][1])/255 for n in range(18)]\n",
    "\n",
    "polygon = pickle.load(open('./Interior_plan/geometry/5.pickle', 'rb'))\n",
    "polygon"
   ]
  },
  {
   "cell_type": "code",
   "execution_count": 8,
   "id": "f561414d",
   "metadata": {},
   "outputs": [
    {
     "data": {
      "text/plain": [
       "'\\nThe code below here does not work\\n'"
      ]
     },
     "execution_count": 8,
     "metadata": {},
     "output_type": "execute_result"
    },
    {
     "data": {
      "text/plain": [
       "<Figure size 640x480 with 0 Axes>"
      ]
     },
     "metadata": {},
     "output_type": "display_data"
    },
    {
     "data": {
      "image/png": "[encoded data removed]",
      "text/plain": [
       "<Figure size 640x480 with 1 Axes>"
      ]
     },
     "metadata": {},
     "output_type": "display_data"
    }
   ],
   "source": [
    "'''\n",
    "This will print the plot 256px by 256px and save it to the file test.png.\n",
    "TO DO:\n",
    "1. The origional image is not square so we need to check wether the corners\n",
    "   indicated in the geometry file are still in the correct location. \n",
    "   _>> the corners are not in the correct positons check with Krita.\n",
    "2. It could be that the preprocessing step works better if the rooms are\n",
    "   colored instead of white. If we want to use the preprosessing steps\n",
    "'''\n",
    "# Find the DPI of the screen\n",
    "fig = plt.figure()\n",
    "DPI = fig.dpi\n",
    "\n",
    "# This create the figure.\n",
    "# fig, axs = plt.subplots(figsize=(250/DPI, 250/DPI), dpi=DPI)\n",
    "fig, axs = plt.subplots()\n",
    "# This makes the image based on the polygon input\n",
    "plot_polygons_rplan(polygon, axs, colors=COLORS)\n",
    "\n",
    "# Save the figure to a specified file name \n",
    "# this produces and figure of 640x480 which is to big\n",
    "fig.savefig('test.png') \n",
    "\n",
    "\"\"\"\n",
    "The code below here does not work\n",
    "\"\"\"\n",
    "# # This turns the figure into a rgb array of size 640x480x3.\n",
    "# rgb_array = np.frombuffer(fig.canvas.tostring_rgb(), dtype=np.uint8)\n",
    "# rgb_array = data.reshape(fig.canvas.get_width_height()[::-1] + (3,))\n",
    "\n",
    "# # This cuts out the middle part turning it into a rgb array of\n",
    "# # size 256x256x3\n",
    "# # This results in an incorrectly cut image\n",
    "# print(rgb_array[193:449,113:369].shape)\n",
    "# im = Image.fromarray(rgb_array[193:449,113:369])\n",
    "# im.save(\"test_correctsize.jpeg\")"
   ]
  },
  {
   "cell_type": "code",
   "execution_count": null,
   "id": "0cf5ddb2",
   "metadata": {},
   "outputs": [],
   "source": [
    "\"\"\"\n",
    "Here we check wether the corners are still in the correct position\n",
    "\"\"\""
   ]
  },
  {
   "cell_type": "code",
   "execution_count": 46,
   "id": "418b47bd",
   "metadata": {
    "scrolled": false
   },
   "outputs": [],
   "source": [
    "\"\"\"\n",
    "Use origional data and sets diffent parts of the image to different colors\n",
    "\"\"\"\n",
    "# Load the image\n",
    "image = Image.open(r'Interior_Plan\\dataset\\floorplan_dataset\\5.png')\n",
    "\n",
    "# Convert the image to RGBA\n",
    "image = image.convert('RGBA')\n",
    "RGBA_array = np.array(image)\n",
    "\n",
    "# Get the color to make transparent\n",
    "# rgba values correspond to:\n",
    "# Background (0,13,0,0), \n",
    "# Outer wall (127,14,0,0)\n",
    "# Room (0, 2, 6, 255)\n",
    "# LivingRoom (0,0,5,255) \n",
    "# Room (0,1,1,255)\n",
    "# Inner wall (0,16,0,255)\n",
    "# Door (0,17,0,255)\n",
    "\n",
    "#To change:\n",
    "Background = (0,13,0,0)\n",
    "Outer_wall = (127,14,0,0)\n",
    "Inner_wall = (0,16,0,255)\n",
    "Door = (0,17,0,255)\n",
    "Front_door = (255,15,0,0)\n",
    "\n",
    "\n",
    "#Desired color:\n",
    "# Desired_White = (255, 255, 255, 255) #White\n",
    "# Desired_Black = (0,0,0,255) #Black\n",
    "\n",
    "Color_Wall = (213,213,213,255)\n",
    "Color_Room = (66,66,66,255)\n",
    "Color_Background = (0,0,0,255) #Black\n",
    "\n",
    "\n",
    "\n",
    "# Iterate through each pixel in the image and make the selected color transparent\n",
    "for x in range(image.width):\n",
    "    for y in range(image.height):\n",
    "        pixel_color = image.getpixel((x, y))\n",
    "#         if pixel_color not in [Background,Outer_wall,Inner_wall,Door,LivingRoom]:\n",
    "#             print(pixel_color)\n",
    "        if pixel_color in [Outer_wall,Inner_wall,Door,Front_door]:\n",
    "            image.putpixel((x, y), Color_Wall) # use (0,0,0,0) for alpha channel\n",
    "        if pixel_color == Background:\n",
    "            image.putpixel((x, y), Color_Background)\n",
    "        if pixel_color not in [Outer_wall,Inner_wall,Door,Front_door,Background]:\n",
    "            image.putpixel((x, y), Color_Room)\n",
    "\n",
    "# Save the modified image\n",
    "image.save('./Image_processing/5_BlackBackground.png')"
   ]
  },
  {
   "cell_type": "code",
   "execution_count": null,
   "id": "d1a33a98",
   "metadata": {},
   "outputs": [],
   "source": [
    "\"\"\"\n",
    "Iterate over each image to process to density file\n",
    "\"\"\"\n",
    "\n",
    "# for image_nmr in Interior\\Interior_Plan\\dataset\\floorplan_dataset\n",
    "# print(image_nmr)\n",
    "\n",
    "# import the modules\n",
    "import os\n",
    "from os import listdir\n",
    " \n",
    "# get the path/directory\n",
    "folder_dir = \"./Interior_Plan/dataset/floorplan_dataset\"\n",
    "for image_nmr in os.listdir(folder_dir):\n",
    " \n",
    "     # check if the image ends with png\n",
    "#     if (image_nmr.endswith(\".png\")):\n",
    "#         print(image_nmr)\n",
    "        \n",
    "    # Load the image\n",
    "#     image = Image.open(r'Interior_Plan\\dataset\\floorplan_dataset\\ image_nmr'.png')\n",
    "    image = Image.open(os.path.join(r'Interior_Plan\\dataset\\floorplan_dataset',image_nmr))\n",
    "    # Convert the image to RGBA\n",
    "    image = image.convert('RGBA')\n",
    "    RGBA_array = np.array(image)\n",
    "\n",
    "    # Get the color to make transparent\n",
    "    # rgba values correspond to:\n",
    "    # Background (0,13,0,0), \n",
    "    # Outer wall (127,14,0,0)\n",
    "    # Room (0, 2, 6, 255)\n",
    "    # LivingRoom (0,0,5,255) \n",
    "    # Room (0,1,1,255)\n",
    "    # Inner wall (0,16,0,255)\n",
    "    # Door (0,17,0,255)\n",
    "\n",
    "    #To change:\n",
    "    Background = (0,13,0,0)\n",
    "    Outer_wall = (127,14,0,0)\n",
    "    Inner_wall = (0,16,0,255)\n",
    "    Door = (0,17,0,255)\n",
    "    Front_door = (255,15,0,0)\n",
    "\n",
    "\n",
    "    #Desired color:\n",
    "    # Desired_White = (255, 255, 255, 255) #White\n",
    "    # Desired_Black = (0,0,0,255) #Black\n",
    "\n",
    "    Color_Wall = (213,213,213,255)\n",
    "    Color_Room = (66,66,66,255)\n",
    "    Color_Background = (0,0,0,255) #Black\n",
    "\n",
    "\n",
    "\n",
    "    # Iterate through each pixel in the image and make the selected color transparent\n",
    "    for x in range(image.width):\n",
    "        for y in range(image.height):\n",
    "            pixel_color = image.getpixel((x, y))\n",
    "    #         if pixel_color not in [Background,Outer_wall,Inner_wall,Door,LivingRoom]:\n",
    "    #             print(pixel_color)\n",
    "            if pixel_color in [Outer_wall,Inner_wall,Door,Front_door]:\n",
    "                image.putpixel((x, y), Color_Wall) # use (0,0,0,0) for alpha channel\n",
    "            if pixel_color == Background:\n",
    "                image.putpixel((x, y), Color_Background)\n",
    "            if pixel_color not in [Outer_wall,Inner_wall,Door,Front_door,Background]:\n",
    "                image.putpixel((x, y), Color_Room)\n",
    "\n",
    "    # Save the modified image\n",
    "#     image.save('./Image_processing/density/image_nmr.png')\n",
    "    image.save(os.path.join(r'Image_processing\\density',image_nmr))"
   ]
  },
  {
   "cell_type": "code",
   "execution_count": null,
   "id": "e1863014",
   "metadata": {},
   "outputs": [],
   "source": [
    "\"\"\"\n",
    "Iterate over each image to process to density file\n",
    "\"\"\"\n",
    " \n",
    "# import the modules\n",
    "import os\n",
    "from os import listdir\n",
    " \n",
    "# get the path/directory\n",
    "folder_dir = \"./Interior_Plan/dataset/floorplan_dataset\"\n",
    "for image_nmr in os.listdir(folder_dir):\n",
    "\n",
    "        \n",
    "    # Load the image\n",
    "    image = Image.open(os.path.join(r'Interior_Plan\\dataset\\floorplan_dataset',image_nmr))\n",
    "    \n",
    "    # Convert the image to RGBA\n",
    "    image = image.convert('RGBA')\n",
    "    RGBA_array = np.array(image)\n",
    "\n",
    "    # Get the color to make transparent\n",
    "    # rgba values correspond to:\n",
    "    # Background (0,13,0,0), \n",
    "    # Outer wall (127,14,0,0)\n",
    "    # Room (0, 2, 6, 255)\n",
    "    # LivingRoom (0,0,5,255) \n",
    "    # Room (0,1,1,255)\n",
    "    # Inner wall (0,16,0,255)\n",
    "    # Door (0,17,0,255)\n",
    "\n",
    "    #To change:\n",
    "    Background = (0,13,0,0)\n",
    "    Outer_wall = (127,14,0,0)\n",
    "    Inner_wall = (0,16,0,255)\n",
    "    Door = (0,17,0,255)\n",
    "    Front_door = (255,15,0,0)\n",
    "\n",
    "\n",
    "    #Desired color:\n",
    "    # Desired_White = (255, 255, 255, 255) #White\n",
    "    # Desired_Black = (0,0,0,255) #Black\n",
    "\n",
    "    Color_Wall = (0,255,255,255)\n",
    "    Color_Room = (255,0,0,255)\n",
    "    Color_Background = (0,0,0,255) #Black\n",
    "\n",
    "\n",
    "\n",
    "    # Iterate through each pixel in the image and make the selected color transparent\n",
    "    for x in range(image.width):\n",
    "        for y in range(image.height):\n",
    "            pixel_color = image.getpixel((x, y))\n",
    "            if pixel_color in [Outer_wall,Inner_wall,Door,Front_door]:\n",
    "                image.putpixel((x, y), Color_Wall)\n",
    "            if pixel_color == Background:\n",
    "                image.putpixel((x, y), Color_Background)\n",
    "            if pixel_color not in [Outer_wall,Inner_wall,Door,Front_door,Background]:\n",
    "                image.putpixel((x, y), Color_Room)\n",
    "\n",
    "    # Save the modified image\n",
    "    image.save(os.path.join(r'Image_processing\\normals',image_nmr))"
   ]
  },
  {
   "cell_type": "code",
   "execution_count": null,
   "id": "8137de58",
   "metadata": {},
   "outputs": [],
   "source": [
    "\"\"\"\n",
    "Save test data in text file\n",
    "\"\"\"\n",
    "folder_dir = \"./Interior_Plan/dataset/floorplan_dataset\"\n",
    "for image_nmr in os.listdir(folder_dir):\n",
    "    image_name = image_nmr - '.png'\n",
    "    print(image_name)\n",
    "\n",
    "    with open('test_list.txt', 'w') as f:\n",
    "        print >>f, number"
   ]
  }
 ],
 "metadata": {
  "kernelspec": {
   "display_name": "heat",
   "language": "python",
   "name": "heat"
  },
  "language_info": {
   "codemirror_mode": {
    "name": "ipython",
    "version": 3
   },
   "file_extension": ".py",
   "mimetype": "text/x-python",
   "name": "python",
   "nbconvert_exporter": "python",
   "pygments_lexer": "ipython3",
   "version": "3.10.9"
  }
 },
 "nbformat": 4,
 "nbformat_minor": 5
}
