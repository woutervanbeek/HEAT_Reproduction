{
 "cells": [
  {
   "cell_type": "code",
   "execution_count": 1,
   "id": "c8db124b",
   "metadata": {},
   "outputs": [],
   "source": [
    "import os"
   ]
  },
  {
   "cell_type": "code",
   "execution_count": 2,
   "id": "4d8459ac",
   "metadata": {},
   "outputs": [],
   "source": [
    "folder_ori = r\"..\\heat\\data\\RPLAN_small\\original\"\n",
    "folder_geo = r\"..\\heat\\data\\RPLAN_small\\geometry\"\n",
<<<<<<< HEAD
    "folder_ann = r\"..\\heat\\data\\RPLAN_small\\annot\"  \n",
=======
>>>>>>> 8df809cd4132696a02fa12a805141e3f6e3e9214
    "\n",
    "ori_list = os.listdir(folder_ori)\n",
    "geo_list = os.listdir(folder_geo)\n",
    "ann_list = os.listdir(folder_ann)\n",
    "\n",
    "for nr, ori_name in enumerate(ori_list):\n",
    "    geo_name = geo_list[nr]\n",
    "    ann_name = ann_list[nr]\n",
    "    nr_str = str(nr).zfill(5)\n",
    "    \n",
    "    ori_old_name = os.path.join(folder_ori,ori_name)\n",
    "    ori_new_name = os.path.join(folder_ori, nr_str + '.png')\n",
    "    geo_old_name = os.path.join(folder_geo,geo_name)\n",
    "    geo_new_name = os.path.join(folder_geo, nr_str + '.pickle')\n",
    "    ann_old_name = os.path.join(folder_ann,ann_name)\n",
    "    ann_new_name = os.path.join(folder_ann, nr_str + '.npy')\n",
    "    \n",
    "    os.rename(ori_old_name, ori_new_name)\n",
    "    os.rename(geo_old_name, geo_new_name)\n",
    "    os.rename(ann_old_name, ann_new_name)"
   ]
  },
  {
   "cell_type": "code",
   "execution_count": 3,
   "id": "0e460a7a",
   "metadata": {},
   "outputs": [],
   "source": [
    "folder_vis = r\"..\\heat\\results\\visualize_heat_RPLAN_small\"\n",
    "\n",
    "vis_list = os.listdir(folder_vis)\n",
    "\n",
    "for nr, vis_name in enumerate(vis_list):\n",
    "    nr_str = str(nr).zfill(5)\n",
    "    \n",
    "    vis_old_name = os.path.join(folder_vis,vis_name)\n",
    "    vis_new_name = os.path.join(folder_vis, nr_str + '.png')\n",
    "    \n",
    "    \n",
    "    os.rename(vis_old_name, vis_new_name)\n",
    "    "
   ]
  },
  {
   "cell_type": "code",
   "execution_count": null,
   "id": "31d14dbf",
   "metadata": {},
   "outputs": [],
   "source": []
  }
 ],
 "metadata": {
  "kernelspec": {
   "display_name": "heat",
   "language": "python",
   "name": "heat"
  },
  "language_info": {
   "codemirror_mode": {
    "name": "ipython",
    "version": 3
   },
   "file_extension": ".py",
   "mimetype": "text/x-python",
   "name": "python",
   "nbconvert_exporter": "python",
   "pygments_lexer": "ipython3",
   "version": "3.10.9"
  }
 },
 "nbformat": 4,
 "nbformat_minor": 5
}
