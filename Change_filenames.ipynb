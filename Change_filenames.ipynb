{
 "cells": [
  {
   "cell_type": "code",
   "execution_count": 1,
   "id": "c8db124b",
   "metadata": {},
   "outputs": [],
   "source": [
    "import os"
   ]
  },
  {
   "cell_type": "code",
   "execution_count": 20,
   "id": "4d8459ac",
   "metadata": {},
   "outputs": [],
   "source": [
    "folder_ori = r\"..\\heat\\data\\RPLAN_small\\original\"\n",
    "folder_geo = r\"..\\heat\\data\\RPLAN_small\\geometry\"\n",
    "\n",
    "ori_list = os.listdir(folder_ori)\n",
    "geo_list = os.listdir(folder_geo)\n",
    "\n",
    "for nr, ori_name in enumerate(ori_list):\n",
    "    geo_name = geo_list[nr]\n",
    "    nr_str = str(nr).zfill(4)\n",
    "    \n",
    "    ori_old_name = os.path.join(folder_ori,ori_name)\n",
    "    ori_new_name = os.path.join(folder_ori, nr_str + '.png')\n",
    "    geo_old_name = os.path.join(folder_geo,geo_name)\n",
    "    geo_new_name = os.path.join(folder_geo, nr_str + '.pickle')\n",
    "    \n",
    "    os.rename(ori_old_name, ori_new_name)\n",
    "    os.rename(geo_old_name, geo_new_name)"
   ]
  },
  {
   "cell_type": "code",
   "execution_count": null,
   "id": "9eefb51a",
   "metadata": {},
   "outputs": [],
   "source": []
  },
  {
   "cell_type": "code",
   "execution_count": null,
   "id": "9a9b0aea",
   "metadata": {},
   "outputs": [],
   "source": []
  }
 ],
 "metadata": {
  "kernelspec": {
   "display_name": "heat",
   "language": "python",
   "name": "heat"
  },
  "language_info": {
   "codemirror_mode": {
    "name": "ipython",
    "version": 3
   },
   "file_extension": ".py",
   "mimetype": "text/x-python",
   "name": "python",
   "nbconvert_exporter": "python",
   "pygments_lexer": "ipython3",
   "version": "3.10.10"
  }
 },
 "nbformat": 4,
 "nbformat_minor": 5
}
